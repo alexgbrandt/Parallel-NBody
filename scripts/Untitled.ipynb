{
 "cells": [
  {
   "cell_type": "markdown",
   "metadata": {},
   "source": [
    "### http://www.vendian.org/mncharity/dir3/starcolor/"
   ]
  },
  {
   "cell_type": "markdown",
   "metadata": {},
   "source": [
    "O5 157 180 255\n",
    "B1 162 185 255\n",
    "B3 167 188 255\n",
    "B5 170 191 255\n",
    "B8 175 195 255\n",
    "A1 186 204 255\n",
    "A3 192 209 255\n",
    "A5 202 216 255\n",
    "F0 228 232 255\n",
    "F2 237 238 255\n",
    "F5 251 248 255\n",
    "F8 255 249 249\n",
    "G2 255 245 236\n",
    "G5 255 244 232\n",
    "G8 255 241 223\n",
    "K0 255 235 209\n",
    "K4 255 215 174\n",
    "K7 255 198 144\n",
    "M2 255 190 127\n",
    "M4 255 187 123\n",
    "M6 255 187 123"
   ]
  },
  {
   "cell_type": "code",
   "execution_count": 79,
   "metadata": {},
   "outputs": [],
   "source": [
    "import pandas as pd;\n",
    "import numpy as np;\n",
    "import matplotlib.pyplot as plt;\n",
    "from sklearn.pipeline import Pipeline;\n",
    "from sklearn.preprocessing import StandardScaler, PolynomialFeatures\n",
    "from sklearn.linear_model import LinearRegression"
   ]
  },
  {
   "cell_type": "code",
   "execution_count": 95,
   "metadata": {},
   "outputs": [
    {
     "data": {
      "text/html": [
       "<div>\n",
       "<style scoped>\n",
       "    .dataframe tbody tr th:only-of-type {\n",
       "        vertical-align: middle;\n",
       "    }\n",
       "\n",
       "    .dataframe tbody tr th {\n",
       "        vertical-align: top;\n",
       "    }\n",
       "\n",
       "    .dataframe thead th {\n",
       "        text-align: right;\n",
       "    }\n",
       "</style>\n",
       "<table border=\"1\" class=\"dataframe\">\n",
       "  <thead>\n",
       "    <tr style=\"text-align: right;\">\n",
       "      <th></th>\n",
       "      <th>Name</th>\n",
       "      <th>R</th>\n",
       "      <th>G</th>\n",
       "      <th>B</th>\n",
       "    </tr>\n",
       "  </thead>\n",
       "  <tbody>\n",
       "    <tr>\n",
       "      <td>0</td>\n",
       "      <td>O5</td>\n",
       "      <td>0.615686</td>\n",
       "      <td>0.705882</td>\n",
       "      <td>1.0</td>\n",
       "    </tr>\n",
       "    <tr>\n",
       "      <td>1</td>\n",
       "      <td>B1</td>\n",
       "      <td>0.635294</td>\n",
       "      <td>0.725490</td>\n",
       "      <td>1.0</td>\n",
       "    </tr>\n",
       "    <tr>\n",
       "      <td>2</td>\n",
       "      <td>B3</td>\n",
       "      <td>0.654902</td>\n",
       "      <td>0.737255</td>\n",
       "      <td>1.0</td>\n",
       "    </tr>\n",
       "    <tr>\n",
       "      <td>3</td>\n",
       "      <td>B5</td>\n",
       "      <td>0.666667</td>\n",
       "      <td>0.749020</td>\n",
       "      <td>1.0</td>\n",
       "    </tr>\n",
       "    <tr>\n",
       "      <td>4</td>\n",
       "      <td>B8</td>\n",
       "      <td>0.686275</td>\n",
       "      <td>0.764706</td>\n",
       "      <td>1.0</td>\n",
       "    </tr>\n",
       "  </tbody>\n",
       "</table>\n",
       "</div>"
      ],
      "text/plain": [
       "  Name         R         G    B\n",
       "0   O5  0.615686  0.705882  1.0\n",
       "1   B1  0.635294  0.725490  1.0\n",
       "2   B3  0.654902  0.737255  1.0\n",
       "3   B5  0.666667  0.749020  1.0\n",
       "4   B8  0.686275  0.764706  1.0"
      ]
     },
     "metadata": {},
     "output_type": "display_data"
    }
   ],
   "source": [
    "df = pd.read_csv(\"StarColors.csv\", delimiter=\" \", names=[\"Name\", \"R\", \"G\", \"B\"]);\n",
    "df[\"R\"] = df[\"R\"] / 255.0;\n",
    "df[\"G\"] = df[\"G\"] / 255.0;\n",
    "df[\"B\"] = df[\"B\"] / 255.0;\n",
    "\n",
    "display(df.head())\n",
    "\n"
   ]
  },
  {
   "cell_type": "code",
   "execution_count": 96,
   "metadata": {},
   "outputs": [
    {
     "name": "stdout",
     "output_type": "stream",
     "text": [
      "21\n",
      "[0.615686274509804, 0.6352941176470588, 0.6549019607843137, 0.6666666666666666, 0.6862745098039216, 0.7294117647058823, 0.7529411764705882, 0.792156862745098, 0.8941176470588236, 0.9294117647058824, 0.984313725490196, 1.0, 1.0, 1.0, 1.0, 1.0, 1.0, 1.0, 1.0, 1.0, 1.0]\n"
     ]
    }
   ],
   "source": [
    "print(len(df.index))\n",
    "print(df[\"R\"].tolist())"
   ]
  },
  {
   "cell_type": "code",
   "execution_count": 97,
   "metadata": {},
   "outputs": [
    {
     "name": "stdout",
     "output_type": "stream",
     "text": [
      "[-0.34970836  3.01217486 -7.03979628  4.01061921]\n",
      "1.0044296822813448\n",
      "[ 0.35529946  3.21427637 -8.17669968  4.63094998]\n",
      "0.7105430630750322\n",
      "[ -0.88069571  16.68565124 -44.11776039  44.98967698 -16.16596219]\n",
      "0.47835976470247865\n"
     ]
    },
    {
     "data": {
      "text/plain": [
       "<matplotlib.collections.PathCollection at 0x7fab03ab1278>"
      ]
     },
     "execution_count": 97,
     "metadata": {},
     "output_type": "execute_result"
    },
    {
     "data": {
      "image/png": "[encoded data removed]",
      "text/plain": [
       "<Figure size 432x288 with 1 Axes>"
      ]
     },
     "metadata": {
      "needs_background": "light"
     },
     "output_type": "display_data"
    }
   ],
   "source": [
    "X = np.flip(np.linspace(0, 1, len(df.index))); #flip so most massive is most blue\n",
    "A = np.vstack([X, np.ones(len(X))]).T\n",
    "X = X.reshape(-1,1)\n",
    "\n",
    "\n",
    "model = Pipeline([('poly', PolynomialFeatures(degree=4, include_bias=False)), ('linear', LinearRegression())]);\n",
    "model.fit(X, df[\"R\"].tolist());\n",
    "print(model.named_steps['linear'].coef_)\n",
    "print(model.named_steps['linear'].intercept_)\n",
    "yR = model.predict(X);\n",
    "# mR, cR = np.linalg.lstsq(A, df[\"R\"].tolist(), rcond=None)[0]\n",
    "# yR = X*mR + cR;\n",
    "plt.plot(X, yR, color='r');\n",
    "\n",
    "model = Pipeline([('poly', PolynomialFeatures(degree=4, include_bias=False)), ('linear', LinearRegression())]);\n",
    "model.fit(X, df[\"G\"].tolist());\n",
    "print(model.named_steps['linear'].coef_)\n",
    "print(model.named_steps['linear'].intercept_)\n",
    "yG = model.predict(X);\n",
    "# mG, cG = np.linalg.lstsq(A, df[\"G\"].tolist(), rcond=None)[0]\n",
    "# yG = X*mG + cG;\n",
    "plt.plot(X, yG,color='g');\n",
    "\n",
    "model = Pipeline([('poly', PolynomialFeatures(degree=5, include_bias=False)), ('linear', LinearRegression())]);\n",
    "model.fit(X, df[\"B\"].tolist());\n",
    "print(model.named_steps['linear'].coef_)\n",
    "print(model.named_steps['linear'].intercept_)\n",
    "yB = model.predict(X);\n",
    "# mB, cB = np.linalg.lstsq(A, df[\"B\"].tolist(), rcond=None)[0]\n",
    "# yB = X*mB + cB;\n",
    "plt.plot(X, yB,color='b');\n",
    "\n",
    "plt.scatter(X, df[\"R\"], color='r')\n",
    "plt.scatter(X, df[\"G\"], color='g')\n",
    "plt.scatter(X, df[\"B\"], color='b')\n",
    "\n",
    "\n"
   ]
  },
  {
   "cell_type": "code",
   "execution_count": 98,
   "metadata": {},
   "outputs": [
    {
     "data": {
      "text/plain": [
       "[<matplotlib.lines.Line2D at 0x7fab03a05630>]"
      ]
     },
     "execution_count": 98,
     "metadata": {},
     "output_type": "execute_result"
    },
    {
     "data": {
      "image/png": "[encoded data removed]",
      "text/plain": [
       "<Figure size 432x288 with 1 Axes>"
      ]
     },
     "metadata": {
      "needs_background": "light"
     },
     "output_type": "display_data"
    }
   ],
   "source": [
    "yTest = 1.0044296822813448 + -0.34970836*X + 3.01217486*(X**2) -7.03979628*(X**3) + 4.01061921*(X**4)\n",
    "\n",
    "plt.plot(X, yTest)"
   ]
  },
  {
   "cell_type": "code",
   "execution_count": null,
   "metadata": {},
   "outputs": [],
   "source": []
  },
  {
   "cell_type": "code",
   "execution_count": null,
   "metadata": {},
   "outputs": [],
   "source": []
  }
 ],
 "metadata": {
  "kernelspec": {
   "display_name": "Python 3",
   "language": "python",
   "name": "python3"
  },
  "language_info": {
   "codemirror_mode": {
    "name": "ipython",
    "version": 3
   },
   "file_extension": ".py",
   "mimetype": "text/x-python",
   "name": "python",
   "nbconvert_exporter": "python",
   "pygments_lexer": "ipython3",
   "version": "3.6.8"
  }
 },
 "nbformat": 4,
 "nbformat_minor": 2
}
